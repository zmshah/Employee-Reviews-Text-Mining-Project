{
 "cells": [
  {
   "cell_type": "markdown",
   "id": "minimal-filter",
   "metadata": {},
   "source": [
    "# CIS 640 - Advanced Database Systems\n",
    "## Text Mining Project - Team 4\n",
    "### Amanda Long, Ahmed Ashraf Sadek, Zawaad Shah"
   ]
  },
  {
   "cell_type": "markdown",
   "id": "extended-botswana",
   "metadata": {},
   "source": [
    "Importing Libraries."
   ]
  },
  {
   "cell_type": "code",
   "execution_count": 1,
   "id": "330bd66e",
   "metadata": {},
   "outputs": [],
   "source": [
    "import pyodbc\n",
    "import sqlalchemy as sal\n",
    "from sqlalchemy import create_engine\n",
    "import pandas as pd\n",
    "import warnings\n",
    "warnings.filterwarnings('ignore')"
   ]
  },
  {
   "cell_type": "markdown",
   "id": "unsigned-coating",
   "metadata": {},
   "source": [
    "Creating the Database Driver Engine."
   ]
  },
  {
   "cell_type": "code",
   "execution_count": 2,
   "id": "ce77f0d5",
   "metadata": {},
   "outputs": [],
   "source": [
    "engine = sal.create_engine('mssql+pyodbc://DESKTOP-24EBAA8/EmployeeReview?driver=SQL Server?Trusted_Connection=yes')"
   ]
  },
  {
   "cell_type": "markdown",
   "id": "stable-microphone",
   "metadata": {},
   "source": [
    "Establishing the connection."
   ]
  },
  {
   "cell_type": "code",
   "execution_count": 3,
   "id": "15399a7f",
   "metadata": {},
   "outputs": [],
   "source": [
    "conn=engine.connect()"
   ]
  },
  {
   "cell_type": "markdown",
   "id": "fallen-juvenile",
   "metadata": {},
   "source": [
    "Verifying the connection is functional by pulling table names from our database."
   ]
  },
  {
   "cell_type": "code",
   "execution_count": 4,
   "id": "10dedb81",
   "metadata": {},
   "outputs": [
    {
     "name": "stdout",
     "output_type": "stream",
     "text": [
      "['company_data', 'employee_data', 'employee_reviews', 'sysdiagrams']\n"
     ]
    }
   ],
   "source": [
    "print(engine.table_names())"
   ]
  },
  {
   "cell_type": "markdown",
   "id": "equivalent-quarterly",
   "metadata": {},
   "source": [
    "Creating a list of column names for the table we want to do text analysis on: **`employee_reviews`**"
   ]
  },
  {
   "cell_type": "code",
   "execution_count": 5,
   "id": "a07b5491",
   "metadata": {},
   "outputs": [
    {
     "name": "stdout",
     "output_type": "stream",
     "text": [
      "['review_id', 'comp_id', 'emp_id', 'pros', 'cons', 'overall_ratings', 'work_balance_stars', 'culture_values_stars', 'career_opportunities_stars', 'comp_benefit_stars', 'senior_management_stars']\n"
     ]
    }
   ],
   "source": [
    "q=engine.execute(\"SELECT COLUMN_NAME FROM INFORMATION_SCHEMA.COLUMNS WHERE TABLE_NAME = 'employee_reviews' ORDER BY ORDINAL_POSITION\")\n",
    "ls = []\n",
    "for row in q:\n",
    "    ls.append(row[0])\n",
    "print(ls)"
   ]
  },
  {
   "cell_type": "markdown",
   "id": "generous-employer",
   "metadata": {},
   "source": [
    "Pulling the data from SQL Server into a Pandas Dataframe."
   ]
  },
  {
   "cell_type": "code",
   "execution_count": 6,
   "id": "c98f31b9",
   "metadata": {},
   "outputs": [
    {
     "data": {
      "text/html": [
       "<div>\n",
       "<style scoped>\n",
       "    .dataframe tbody tr th:only-of-type {\n",
       "        vertical-align: middle;\n",
       "    }\n",
       "\n",
       "    .dataframe tbody tr th {\n",
       "        vertical-align: top;\n",
       "    }\n",
       "\n",
       "    .dataframe thead th {\n",
       "        text-align: right;\n",
       "    }\n",
       "</style>\n",
       "<table border=\"1\" class=\"dataframe\">\n",
       "  <thead>\n",
       "    <tr style=\"text-align: right;\">\n",
       "      <th></th>\n",
       "      <th>review_id</th>\n",
       "      <th>comp_id</th>\n",
       "      <th>emp_id</th>\n",
       "      <th>pros</th>\n",
       "      <th>cons</th>\n",
       "      <th>overall_ratings</th>\n",
       "      <th>work_balance_stars</th>\n",
       "      <th>culture_values_stars</th>\n",
       "      <th>career_opportunities_stars</th>\n",
       "      <th>comp_benefit_stars</th>\n",
       "      <th>senior_management_stars</th>\n",
       "    </tr>\n",
       "  </thead>\n",
       "  <tbody>\n",
       "    <tr>\n",
       "      <th>0</th>\n",
       "      <td>1</td>\n",
       "      <td>1</td>\n",
       "      <td>1</td>\n",
       "      <td>People are smart and friendly</td>\n",
       "      <td>Bureaucracy is slowing things down</td>\n",
       "      <td>5.0</td>\n",
       "      <td>4.0</td>\n",
       "      <td>5.0</td>\n",
       "      <td>5.0</td>\n",
       "      <td>4.0</td>\n",
       "      <td>5.0</td>\n",
       "    </tr>\n",
       "    <tr>\n",
       "      <th>1</th>\n",
       "      <td>2</td>\n",
       "      <td>1</td>\n",
       "      <td>2</td>\n",
       "      <td>1) Food, food, food. 15+ cafes on main campus ...</td>\n",
       "      <td>1) Work/life balance. What balance? All those ...</td>\n",
       "      <td>4.0</td>\n",
       "      <td>2.0</td>\n",
       "      <td>3.0</td>\n",
       "      <td>3.0</td>\n",
       "      <td>5.0</td>\n",
       "      <td>3.0</td>\n",
       "    </tr>\n",
       "    <tr>\n",
       "      <th>2</th>\n",
       "      <td>3</td>\n",
       "      <td>1</td>\n",
       "      <td>3</td>\n",
       "      <td>* If you're a software engineer, you're among ...</td>\n",
       "      <td>* It *is* becoming larger, and with it comes g...</td>\n",
       "      <td>5.0</td>\n",
       "      <td>5.0</td>\n",
       "      <td>4.0</td>\n",
       "      <td>5.0</td>\n",
       "      <td>5.0</td>\n",
       "      <td>4.0</td>\n",
       "    </tr>\n",
       "    <tr>\n",
       "      <th>3</th>\n",
       "      <td>4</td>\n",
       "      <td>1</td>\n",
       "      <td>4</td>\n",
       "      <td>You can't find a more well-regarded company th...</td>\n",
       "      <td>I live in SF so the commute can take between 1...</td>\n",
       "      <td>5.0</td>\n",
       "      <td>2.0</td>\n",
       "      <td>5.0</td>\n",
       "      <td>5.0</td>\n",
       "      <td>4.0</td>\n",
       "      <td>5.0</td>\n",
       "    </tr>\n",
       "    <tr>\n",
       "      <th>4</th>\n",
       "      <td>5</td>\n",
       "      <td>1</td>\n",
       "      <td>5</td>\n",
       "      <td>Google is a world of its own. At every other c...</td>\n",
       "      <td>If you don't work in MTV (HQ), you will be giv...</td>\n",
       "      <td>5.0</td>\n",
       "      <td>5.0</td>\n",
       "      <td>5.0</td>\n",
       "      <td>5.0</td>\n",
       "      <td>5.0</td>\n",
       "      <td>5.0</td>\n",
       "    </tr>\n",
       "  </tbody>\n",
       "</table>\n",
       "</div>"
      ],
      "text/plain": [
       "   review_id  comp_id  emp_id  \\\n",
       "0          1        1       1   \n",
       "1          2        1       2   \n",
       "2          3        1       3   \n",
       "3          4        1       4   \n",
       "4          5        1       5   \n",
       "\n",
       "                                                pros  \\\n",
       "0                      People are smart and friendly   \n",
       "1  1) Food, food, food. 15+ cafes on main campus ...   \n",
       "2  * If you're a software engineer, you're among ...   \n",
       "3  You can't find a more well-regarded company th...   \n",
       "4  Google is a world of its own. At every other c...   \n",
       "\n",
       "                                                cons  overall_ratings  \\\n",
       "0                 Bureaucracy is slowing things down              5.0   \n",
       "1  1) Work/life balance. What balance? All those ...              4.0   \n",
       "2  * It *is* becoming larger, and with it comes g...              5.0   \n",
       "3  I live in SF so the commute can take between 1...              5.0   \n",
       "4  If you don't work in MTV (HQ), you will be giv...              5.0   \n",
       "\n",
       "   work_balance_stars  culture_values_stars  career_opportunities_stars  \\\n",
       "0                 4.0                   5.0                         5.0   \n",
       "1                 2.0                   3.0                         3.0   \n",
       "2                 5.0                   4.0                         5.0   \n",
       "3                 2.0                   5.0                         5.0   \n",
       "4                 5.0                   5.0                         5.0   \n",
       "\n",
       "   comp_benefit_stars  senior_management_stars  \n",
       "0                 4.0                      5.0  \n",
       "1                 5.0                      3.0  \n",
       "2                 5.0                      4.0  \n",
       "3                 4.0                      5.0  \n",
       "4                 5.0                      5.0  "
      ]
     },
     "execution_count": 6,
     "metadata": {},
     "output_type": "execute_result"
    }
   ],
   "source": [
    "sql_query = pd.read_sql_query('SELECT * FROM EmployeeReview.dbo.employee_reviews', engine)\n",
    "df = pd.DataFrame(sql_query, columns = ls)\n",
    "df.head()"
   ]
  },
  {
   "cell_type": "markdown",
   "id": "revised-acoustic",
   "metadata": {},
   "source": [
    "# Thank you :)"
   ]
  }
 ],
 "metadata": {
  "kernelspec": {
   "display_name": "Python 3",
   "language": "python",
   "name": "python3"
  },
  "language_info": {
   "codemirror_mode": {
    "name": "ipython",
    "version": 3
   },
   "file_extension": ".py",
   "mimetype": "text/x-python",
   "name": "python",
   "nbconvert_exporter": "python",
   "pygments_lexer": "ipython3",
   "version": "3.7.7"
  }
 },
 "nbformat": 4,
 "nbformat_minor": 5
}
